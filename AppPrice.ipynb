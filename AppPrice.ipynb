{
 "cells": [
  {
   "attachments": {},
   "cell_type": "markdown",
   "metadata": {},
   "source": [
    "Getting data\n",
    "rows :12477 \n",
    "columns : 29\n",
    "header : ['id' 'name' 'type' 'frameType' 'desc' 'race' 'archetype' 'card_sets'\n",
    " 'card_images' 'card_prices' 'atk' 'def' 'level' 'attribute' 'scale'\n",
    " 'linkval' 'linkmarkers' 'banlist_info']"
   ]
  },
  {
   "cell_type": "code",
   "execution_count": 251,
   "metadata": {},
   "outputs": [],
   "source": [
    "import pandas as pd\n",
    "import requests\n",
    "import tkinter as tk\n",
    "from PIL import ImageTk, Image\n",
    "from io import BytesIO\n",
    "from datetime import datetime"
   ]
  },
  {
   "cell_type": "code",
   "execution_count": 252,
   "metadata": {},
   "outputs": [
    {
     "name": "stdout",
     "output_type": "stream",
     "text": [
      "['id' 'name' 'type' 'frameType' 'desc' 'race' 'archetype' 'card_sets'\n",
      " 'card_images' 'card_prices' 'atk' 'def' 'level' 'attribute' 'scale'\n",
      " 'linkval' 'linkmarkers' 'banlist_info']\n",
      "12516 18\n"
     ]
    }
   ],
   "source": [
    "i = 0\n",
    "try:\n",
    "    respFromApi = requests.get(\"https://db.ygoprodeck.com/api/v7/cardinfo.php\")\n",
    "    respFromApi.raise_for_status()\n",
    "    resp = respFromApi.json()\n",
    "    data = pd.DataFrame(resp[\"data\"])\n",
    "    print(data.columns.values)\n",
    "    print(data.shape[0], data.shape[1])\n",
    "except Exception as error:\n",
    "    print(\n",
    "        f\"Exception : {error.__class__.__name__} -- strerror: {error}\")"
   ]
  },
  {
   "cell_type": "code",
   "execution_count": 253,
   "metadata": {},
   "outputs": [],
   "source": [
    "def GetImage():\n",
    "    try :\n",
    "        global i\n",
    "        url = data['card_images'][i][0]['image_url']\n",
    "        image_response = requests.get(url)\n",
    "        img_data = image_response.content\n",
    "        return(ImageTk.PhotoImage(Image.open(BytesIO(img_data))))\n",
    "    except Exception as error:\n",
    "        print(\n",
    "            f\"Exception : {error.__class__.__name__} -- strerror: {error}\")\n"
   ]
  },
  {
   "cell_type": "code",
   "execution_count": 286,
   "metadata": {},
   "outputs": [],
   "source": [
    "def GetPrice():\n",
    "    global i\n",
    "    priceCardMarket = 0\n",
    "    priceCardMarket = data['card_prices'][i][0]['cardmarket_price']\n",
    "    if priceCardMarket:\n",
    "        return(priceCardMarket)\n",
    "    else :\n",
    "        return(0)\n",
    "   "
   ]
  },
  {
   "cell_type": "code",
   "execution_count": 287,
   "metadata": {},
   "outputs": [],
   "source": [
    "\n",
    "def GetFamily():\n",
    "    global i\n",
    "    family = []\n",
    "    if(isinstance(data['card_sets'][i],list)):\n",
    "        for f in data['card_sets'][i]:\n",
    "            family.append(f[\"set_code\"])\n",
    "        return(family) \n",
    "    else:\n",
    "        return \"Not Found\"\n",
    "    "
   ]
  },
  {
   "attachments": {},
   "cell_type": "markdown",
   "metadata": {},
   "source": [
    "old api : https://yugiohprices.docs.apiary.io/#\n",
    "datetimeStr = jsonPrice[\"data\"][0][\"price_data\"][\"data\"][\"prices\"][\"updated_at\"][0:19]\n",
    "datetime_object = datetime.strptime(datetimeStr, '%Y-%m-%d %H:%M:%S')\n",
    "price = jsonPrice[\"data\"][0][\"price_data\"][\"data\"][\"prices\"][\"average\"]"
   ]
  },
  {
   "cell_type": "code",
   "execution_count": 288,
   "metadata": {},
   "outputs": [],
   "source": [
    "def clicked(labelImage:tk.Label, labelPrice:tk.Label, labelFamily:tk.Label):\n",
    "    global i\n",
    "    img = GetImage()\n",
    "    labelImage.configure(image=img)\n",
    "    labelImage.image=img\n",
    "    price = GetPrice()\n",
    "    family = GetFamily()\n",
    "    labelFamily.configure(text = f\"{family}\")\n",
    "    if(price):\n",
    "        labelPrice.configure(text = f\"Price: {price} €\")\n",
    "    else:\n",
    "        labelPrice.configure(text = \"Not found\") \n",
    "   \n"
   ]
  },
  {
   "cell_type": "code",
   "execution_count": 289,
   "metadata": {},
   "outputs": [],
   "source": [
    "def SearchById(entry, labelImage, labelPrice, labelFamily):\n",
    "    getInput = entry.get()\n",
    "    global i\n",
    "    try:\n",
    "        findInput = data[data[\"id\"] == int(getInput)]\n",
    "        i = findInput.index[0]\n",
    "        clicked(labelImage, labelPrice, labelFamily)\n",
    "    except Exception as error:\n",
    "        print(f\"Exception : {error.__class__.__name__} -- strerror: {error}\")\n",
    "    \n",
    "    "
   ]
  },
  {
   "cell_type": "code",
   "execution_count": 290,
   "metadata": {},
   "outputs": [],
   "source": [
    "def Click(*args):\n",
    "    global i\n",
    "    clicked(args[0], args[1],args[2])\n",
    "    if(args[3]):\n",
    "        if(i < data.shape[0]):\n",
    "            i+=1\n",
    "    else:\n",
    "        if(i > 0) :\n",
    "            i-=1"
   ]
  },
  {
   "cell_type": "code",
   "execution_count": 291,
   "metadata": {},
   "outputs": [],
   "source": [
    "class GUI():\n",
    "    def __init__(self) -> None:\n",
    "        self.window = tk.Tk()\n",
    "        self.inputId = tk.Entry()\n",
    "        self.inputId.insert(0,\"CardId: ex 02656842\")\n",
    "        self.labelImage = tk.Label(master=self.window, image = None)\n",
    "        self.labelPrice = tk.Label(master=self.window, text = None)\n",
    "        self.labelFamily = tk.Label(master=self.window,text = None)\n",
    "        self.previous = tk.Button(self.window, text=\"←\", command=lambda:Click(self.labelImage,self.labelPrice,self.labelFamily,0))\n",
    "        self.next = tk.Button(self.window, text=\"→\", command=lambda:Click(self.labelImage,self.labelPrice,self.labelFamily,1))\n",
    "        self.searchById = tk.Button(self.window, text=\"Search\", command=lambda:SearchById(self.inputId, self.labelImage, self.labelPrice, self.LabelFamily))\n",
    "        self.inputId.pack()\n",
    "        self.labelImage.pack()\n",
    "        self.labelPrice.pack()\n",
    "        self.labelFamily.pack()\n",
    "        self.next.pack(side=tk.RIGHT)\n",
    "        self.previous.pack(side=tk.LEFT)\n",
    "        self.searchById.pack()\n",
    "        self.window.mainloop()"
   ]
  },
  {
   "cell_type": "markdown",
   "metadata": {},
   "source": [
    "Create tkinter windows"
   ]
  },
  {
   "attachments": {},
   "cell_type": "markdown",
   "metadata": {},
   "source": [
    "Deploy App"
   ]
  },
  {
   "cell_type": "code",
   "execution_count": 292,
   "metadata": {},
   "outputs": [],
   "source": [
    "gui = GUI()\n"
   ]
  }
 ],
 "metadata": {
  "kernelspec": {
   "display_name": "Python 3",
   "language": "python",
   "name": "python3"
  },
  "language_info": {
   "codemirror_mode": {
    "name": "ipython",
    "version": 3
   },
   "file_extension": ".py",
   "mimetype": "text/x-python",
   "name": "python",
   "nbconvert_exporter": "python",
   "pygments_lexer": "ipython3",
   "version": "3.11.3"
  },
  "orig_nbformat": 4
 },
 "nbformat": 4,
 "nbformat_minor": 2
}
