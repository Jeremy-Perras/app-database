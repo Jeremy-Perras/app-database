{
 "cells": [
  {
   "cell_type": "code",
   "execution_count": 53,
   "metadata": {},
   "outputs": [],
   "source": [
    "import pandas as pd\n",
    "import requests\n",
    "import tkinter as tk\n",
    "from PIL import ImageTk, Image\n",
    "from io import BytesIO\n",
    "from datetime import datetime"
   ]
  },
  {
   "cell_type": "code",
   "execution_count": 54,
   "metadata": {},
   "outputs": [],
   "source": [
    "# class GUI():\n",
    "#     def __init__(self) -> None:\n",
    "#         self.window = tk.Tk()\n",
    "        \n",
    "#         self.labelImage = tk.Label(master=self.window, image = None)\n",
    "#         # self.labelImage.bind(\"<Enter>\",lambda event: Click(self.labelImage,self.labelPrice,self.labelUpdate,1))\n",
    "#         self.labelImage.pack()\n",
    "#         self.window.mainloop()"
   ]
  },
  {
   "cell_type": "code",
   "execution_count": 55,
   "metadata": {},
   "outputs": [
    {
     "name": "stdout",
     "output_type": "stream",
     "text": [
      "         id                                          image_url   \n",
      "0  34541863  https://images.ygoprodeck.com/images/cards/345...  \\\n",
      "\n",
      "                                     image_url_small   \n",
      "0  https://images.ygoprodeck.com/images/cards_sma...  \\\n",
      "\n",
      "                                   image_url_cropped  \n",
      "0  https://images.ygoprodeck.com/images/cards_cro...  \n"
     ]
    }
   ],
   "source": [
    "try:\n",
    "   \n",
    "    respFromApi = requests.get(\"https://db.ygoprodeck.com/api/v7/cardinfo.php\")\n",
    "    respFromApi.raise_for_status()\n",
    "    resp = respFromApi.json()\n",
    "    data = pd.DataFrame(resp[\"data\"][0][\"card_images\"])\n",
    "    print(data[\"image_url\"])\n",
    "except Exception as error:\n",
    "    print(\n",
    "        f\"Exception : {error.__class__.__name__} -- strerror: {error}\")"
   ]
  }
 ],
 "metadata": {
  "kernelspec": {
   "display_name": "Python 3",
   "language": "python",
   "name": "python3"
  },
  "language_info": {
   "codemirror_mode": {
    "name": "ipython",
    "version": 3
   },
   "file_extension": ".py",
   "mimetype": "text/x-python",
   "name": "python",
   "nbconvert_exporter": "python",
   "pygments_lexer": "ipython3",
   "version": "3.11.3"
  },
  "orig_nbformat": 4
 },
 "nbformat": 4,
 "nbformat_minor": 2
}
