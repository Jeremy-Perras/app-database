{
 "cells": [
  {
   "attachments": {},
   "cell_type": "markdown",
   "metadata": {},
   "source": [
    "Getting data\n",
    "rows :12477 \n",
    "columns : 29\n",
    "header : 'id' 'name' 'type' 'desc' 'atk' 'def' 'level' 'race' 'attribute' 'scale'\n",
    "        'archetype' 'linkval' 'linkmarkers' 'image_url' 'image_url_small'\n",
    "        'ban_tcg' 'ban_ocg' 'ban_goat' 'staple' 'views' 'viewsweek' 'upvotes'\n",
    "        'downvotes' 'formats' 'treated_as' 'tcg_date' 'ocg_date' 'konami_id'\n",
    "        'has_effect'"
   ]
  },
  {
   "cell_type": "code",
   "execution_count": 9,
   "metadata": {},
   "outputs": [
    {
     "name": "stdout",
     "output_type": "stream",
     "text": [
      "12477 29\n"
     ]
    }
   ],
   "source": [
    "import pandas as pd\n",
    "import requests\n",
    "import tkinter as tk\n",
    "from PIL import ImageTk, Image\n",
    "from io import BytesIO\n",
    "from datetime import datetime\n",
    "i = 0\n",
    "try:\n",
    "    data = pd.read_csv(\"/Users/jeremyperras/Desktop/csv/database/cards.csv\")\n",
    "    print(data.shape[0], data.shape[1])\n",
    "except Exception as error:\n",
    "    print(\n",
    "        f\"Exception : {error.__class__.__name__} -- strerror: {error}\")"
   ]
  },
  {
   "cell_type": "code",
   "execution_count": 10,
   "metadata": {},
   "outputs": [],
   "source": [
    "def GetImage():\n",
    "    try :\n",
    "        global i\n",
    "        url = data['image_url'][i]\n",
    "        image_response = requests.get(url)\n",
    "        img_data = image_response.content\n",
    "        return(ImageTk.PhotoImage(Image.open(BytesIO(img_data))))\n",
    "    except Exception as error:\n",
    "        print(\n",
    "            f\"Exception : {error.__class__.__name__} -- strerror: {error}\")\n"
   ]
  },
  {
   "cell_type": "code",
   "execution_count": 11,
   "metadata": {},
   "outputs": [],
   "source": [
    "def GetPrice():\n",
    "    global i\n",
    "    name = data['name'][i]\n",
    "    respFromApi = requests.get(f\"https://yugiohprices.com/api/get_card_prices/{name}\")\n",
    "    respFromApi.raise_for_status()\n",
    "    resp = respFromApi.json()\n",
    "    if respFromApi.json()[\"status\"] == \"success\":\n",
    "        return(respFromApi.json())\n",
    "    else :\n",
    "        return(0)\n",
    "   "
   ]
  },
  {
   "cell_type": "code",
   "execution_count": 12,
   "metadata": {},
   "outputs": [],
   "source": [
    "def clicked(labelImage:tk.Label,labelPrice:tk.Label,labelUpdate:tk.Label):\n",
    "    global i\n",
    "    img = GetImage()\n",
    "    labelImage.configure(image=img)\n",
    "    labelImage.image=img\n",
    "    jsonPrice = GetPrice()\n",
    "    if(jsonPrice):\n",
    "        datetimeStr = jsonPrice[\"data\"][0][\"price_data\"][\"data\"][\"prices\"][\"updated_at\"][0:19]\n",
    "        datetime_object = datetime.strptime(datetimeStr, '%Y-%m-%d %H:%M:%S')\n",
    "        price = jsonPrice[\"data\"][0][\"price_data\"][\"data\"][\"prices\"][\"average\"]\n",
    "        labelPrice.configure(text = f\"Price: {price} $\")\n",
    "        labelUpdate.configure(text = f\"Last up:  {datetime_object}\")\n",
    "    else:\n",
    "        labelPrice.configure(text = \"Not found\") \n",
    "        labelUpdate.configure(text = \"Not Found\")\n",
    "   \n"
   ]
  },
  {
   "cell_type": "code",
   "execution_count": 13,
   "metadata": {},
   "outputs": [],
   "source": [
    "def Search(entry, labelImage, labelPrice, labelUpdate):\n",
    "    getInput = entry.get()\n",
    "    global i\n",
    "    try:\n",
    "        findInput = data[data[\"id\"] == int(getInput)]\n",
    "        i = findInput.index[0]\n",
    "        print(\"test:\",i)\n",
    "        clicked(labelImage,labelPrice,labelUpdate)\n",
    "    except Exception as error:\n",
    "        print(f\"Exception : {error.__class__.__name__} -- strerror: {error}\")\n",
    "    \n",
    "    "
   ]
  },
  {
   "cell_type": "code",
   "execution_count": 14,
   "metadata": {},
   "outputs": [],
   "source": [
    "def Click(*args):\n",
    "    global i\n",
    "    clicked(args[0], args[1],args[2])\n",
    "    if(args[3]):\n",
    "        if(i < data.shape[0]):\n",
    "            i+=1\n",
    "    else:\n",
    "        if(i > 0) :\n",
    "            i-=1"
   ]
  },
  {
   "cell_type": "code",
   "execution_count": 15,
   "metadata": {},
   "outputs": [],
   "source": [
    "class GUI():\n",
    "    def __init__(self) -> None:\n",
    "        self.window = tk.Tk()\n",
    "        self.inputId = tk.Entry()\n",
    "        self.inputId.insert(0,\"CardId: ex 02656842\")\n",
    "        self.labelImage = tk.Label(master=self.window, image=None)\n",
    "        self.labelPrice = tk.Label(master=self.window, text=None)\n",
    "        self.labelUpdate = tk.Label(master=self.window, text=None)\n",
    "        self.previous = tk.Button(self.window, text=\"←\", command=lambda:Click(self.labelImage,self.labelPrice,self.labelUpdate,0))\n",
    "        self.next = tk.Button(self.window, text=\"→\", command=lambda:Click(self.labelImage,self.labelPrice,self.labelUpdate,1))\n",
    "        self.search = tk.Button(self.window, text=\"Search\", command=lambda:Search(self.inputId,self.labelImage,self.labelPrice,self.labelUpdate))\n",
    "        self.inputId.pack()\n",
    "        self.labelImage.pack()\n",
    "        self.labelUpdate.pack()\n",
    "        self.labelPrice.pack()\n",
    "        self.next.pack(side=tk.RIGHT)\n",
    "        self.previous.pack(side=tk.LEFT)\n",
    "        self.search.pack()\n",
    "        self.window.mainloop()"
   ]
  },
  {
   "cell_type": "markdown",
   "metadata": {},
   "source": [
    "Create tkinter windows"
   ]
  },
  {
   "attachments": {},
   "cell_type": "markdown",
   "metadata": {},
   "source": [
    "Deploy App"
   ]
  },
  {
   "cell_type": "code",
   "execution_count": 16,
   "metadata": {},
   "outputs": [],
   "source": [
    "gui = GUI()\n"
   ]
  }
 ],
 "metadata": {
  "kernelspec": {
   "display_name": "Python 3",
   "language": "python",
   "name": "python3"
  },
  "language_info": {
   "codemirror_mode": {
    "name": "ipython",
    "version": 3
   },
   "file_extension": ".py",
   "mimetype": "text/x-python",
   "name": "python",
   "nbconvert_exporter": "python",
   "pygments_lexer": "ipython3",
   "version": "3.11.3"
  },
  "orig_nbformat": 4
 },
 "nbformat": 4,
 "nbformat_minor": 2
}
